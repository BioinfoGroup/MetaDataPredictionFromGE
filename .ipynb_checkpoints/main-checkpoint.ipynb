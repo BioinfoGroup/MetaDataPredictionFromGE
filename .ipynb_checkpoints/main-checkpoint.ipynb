{
 "cells": [
  {
   "cell_type": "code",
   "execution_count": 1,
   "metadata": {
    "collapsed": true
   },
   "outputs": [],
   "source": [
    "import pandas as pd\n",
    "import numpy as np\n",
    "\n",
    "import seaborn as sns\n",
    "import matplotlib.pyplot as plt\n",
    "%matplotlib inline\n",
    "\n",
    "from xgboost import XGBClassifier\n",
    "from sklearn.model_selection import train_test_split\n",
    "from sklearn.metrics import accuracy_score\n",
    "from collections import Counter\n",
    "\n",
    "import tqdm"
   ]
  },
  {
   "cell_type": "markdown",
   "metadata": {},
   "source": [
    "# Research"
   ]
  },
  {
   "cell_type": "code",
   "execution_count": 174,
   "metadata": {
    "collapsed": true
   },
   "outputs": [],
   "source": [
    "meta = pd.read_csv('phenotype_prediction/train/tissue/meta.txt', sep='\\t')"
   ]
  },
  {
   "cell_type": "code",
   "execution_count": 175,
   "metadata": {
    "collapsed": true
   },
   "outputs": [],
   "source": [
    "df_train = pd.read_csv('data/train_tissue.csv').drop('Unnamed: 0', axis=1)\n",
    "df_test = pd.read_csv('data/test_tissue.csv').drop('Unnamed: 0', axis=1)\n",
    "\n",
    "df_train = df_train.dropna()\n",
    "df_test = df_test.dropna()"
   ]
  },
  {
   "cell_type": "code",
   "execution_count": 176,
   "metadata": {
    "collapsed": true
   },
   "outputs": [],
   "source": [
    "df_train['expression'] = df_train.groupby('sample').expression.transform(lambda x: x / x.max())\n",
    "df_test['expression'] = df_test.groupby('sample').expression.transform(lambda x: x / x.max())"
   ]
  },
  {
   "cell_type": "code",
   "execution_count": 177,
   "metadata": {},
   "outputs": [
    {
     "data": {
      "text/html": [
       "<div>\n",
       "<table border=\"1\" class=\"dataframe\">\n",
       "  <thead>\n",
       "    <tr style=\"text-align: right;\">\n",
       "      <th></th>\n",
       "      <th></th>\n",
       "      <th>expression</th>\n",
       "      <th>gene_sym</th>\n",
       "      <th>gpl</th>\n",
       "      <th>sample</th>\n",
       "      <th>tissue</th>\n",
       "    </tr>\n",
       "  </thead>\n",
       "  <tbody>\n",
       "    <tr>\n",
       "      <th rowspan=\"5\" valign=\"top\">train</th>\n",
       "      <th>0</th>\n",
       "      <td>0.543810</td>\n",
       "      <td>cradd</td>\n",
       "      <td>GPL6885</td>\n",
       "      <td>1</td>\n",
       "      <td>muscle</td>\n",
       "    </tr>\n",
       "    <tr>\n",
       "      <th>1</th>\n",
       "      <td>0.666459</td>\n",
       "      <td>rcan2</td>\n",
       "      <td>GPL6885</td>\n",
       "      <td>1</td>\n",
       "      <td>muscle</td>\n",
       "    </tr>\n",
       "    <tr>\n",
       "      <th>2</th>\n",
       "      <td>0.538877</td>\n",
       "      <td>mfap3l</td>\n",
       "      <td>GPL6885</td>\n",
       "      <td>1</td>\n",
       "      <td>muscle</td>\n",
       "    </tr>\n",
       "    <tr>\n",
       "      <th>3</th>\n",
       "      <td>0.537864</td>\n",
       "      <td>tcerg1l</td>\n",
       "      <td>GPL6885</td>\n",
       "      <td>1</td>\n",
       "      <td>muscle</td>\n",
       "    </tr>\n",
       "    <tr>\n",
       "      <th>4</th>\n",
       "      <td>0.550665</td>\n",
       "      <td>mb21d2</td>\n",
       "      <td>GPL6885</td>\n",
       "      <td>1</td>\n",
       "      <td>muscle</td>\n",
       "    </tr>\n",
       "  </tbody>\n",
       "</table>\n",
       "</div>"
      ],
      "text/plain": [
       "         expression gene_sym      gpl  sample  tissue\n",
       "train 0    0.543810    cradd  GPL6885       1  muscle\n",
       "      1    0.666459    rcan2  GPL6885       1  muscle\n",
       "      2    0.538877   mfap3l  GPL6885       1  muscle\n",
       "      3    0.537864  tcerg1l  GPL6885       1  muscle\n",
       "      4    0.550665   mb21d2  GPL6885       1  muscle"
      ]
     },
     "execution_count": 177,
     "metadata": {},
     "output_type": "execute_result"
    }
   ],
   "source": [
    "df_concat = pd.concat([df_train, df_test], keys=[\"train\", \"test\"])\n",
    "df_concat.head()"
   ]
  },
  {
   "cell_type": "code",
   "execution_count": 178,
   "metadata": {
    "collapsed": true
   },
   "outputs": [],
   "source": [
    "TARGET = 'tissue'"
   ]
  },
  {
   "cell_type": "code",
   "execution_count": 179,
   "metadata": {
    "collapsed": true
   },
   "outputs": [],
   "source": [
    "def categorize_plz(df_):\n",
    "    \"\"\"\n",
    "    Returns\n",
    "    -------\n",
    "    train, test df\n",
    "    \"\"\"\n",
    "    categories = [TARGET, 'gene_sym', 'gpl']\n",
    "\n",
    "    df_fact_ = df_.copy()\n",
    "\n",
    "    for category in categories:\n",
    "        factzed = pd.factorize(df_fact_[category])\n",
    "        if category == 'gpl':\n",
    "            print(factzed)\n",
    "        if category == TARGET:\n",
    "            fact_target_ = factzed[1]\n",
    "        df_fact_[category] = factzed[0]\n",
    "        \n",
    "    return df_fact_.ix['train'], df_fact_.ix['test'].drop(TARGET, axis=1), fact_target_"
   ]
  },
  {
   "cell_type": "code",
   "execution_count": 180,
   "metadata": {},
   "outputs": [
    {
     "name": "stdout",
     "output_type": "stream",
     "text": [
      "(array([0, 0, 0, ..., 3, 3, 3]), Index([u'GPL6885', u'GPL1261', u'GPL81', u'GPL6246', u'GPL4134', u'GPL339',\n",
      "       u'GPL7202', u'GPL6887', u'GPL8321'],\n",
      "      dtype='object'))\n"
     ]
    }
   ],
   "source": [
    "df_train, df_test, fact_target = categorize_plz(df_concat)"
   ]
  },
  {
   "cell_type": "code",
   "execution_count": 183,
   "metadata": {
    "scrolled": true
   },
   "outputs": [
    {
     "data": {
      "text/plain": [
       "array([0, 1, 2, 3])"
      ]
     },
     "execution_count": 183,
     "metadata": {},
     "output_type": "execute_result"
    }
   ],
   "source": [
    "df_train['tissue'].unique()"
   ]
  },
  {
   "cell_type": "markdown",
   "metadata": {},
   "source": [
    "# Time for Training"
   ]
  },
  {
   "cell_type": "markdown",
   "metadata": {},
   "source": [
    "## Majority prediction"
   ]
  },
  {
   "cell_type": "code",
   "execution_count": null,
   "metadata": {
    "collapsed": true
   },
   "outputs": [],
   "source": [
    "meta_dict = dict(meta[['sample', TARGET]].values)  # `sample` to `TARGET`\n",
    "target_dict = dict(enumerate(fact_target))  # encoded `TARGET` to actual `TARGET`"
   ]
  },
  {
   "cell_type": "code",
   "execution_count": null,
   "metadata": {
    "collapsed": true
   },
   "outputs": [],
   "source": [
    "def only_sample(df_, sam):\n",
    "    return df_[df_['sample'] == sam]\n",
    "\n",
    "def make_prediction(df_, clf_):\n",
    "    x_ = df_.drop([TARGET, 'sample'], axis=1)\n",
    "    predictions_ = clf_.predict(x_)\n",
    "    \n",
    "    def most_common(pred):\n",
    "        return Counter(pred).most_common(1)[0][0]\n",
    "\n",
    "    return most_common(predictions_)"
   ]
  },
  {
   "cell_type": "code",
   "execution_count": 17,
   "metadata": {
    "collapsed": true
   },
   "outputs": [],
   "source": [
    "small_train = df_train.sample(300000)\n",
    "X_train, X_valid, Y_train, Y_valid = train_test_split(small_train, small_train[TARGET],\n",
    "                                                      test_size=0.3, random_state=42)"
   ]
  },
  {
   "cell_type": "code",
   "execution_count": 88,
   "metadata": {
    "scrolled": false
   },
   "outputs": [
    {
     "data": {
      "image/png": "[encoded data removed]",
      "text/plain": [
       "<matplotlib.figure.Figure at 0x114d81c10>"
      ]
     },
     "metadata": {},
     "output_type": "display_data"
    },
    {
     "name": "stdout",
     "output_type": "stream",
     "text": [
      "0 - male\n",
      "1 - female\n"
     ]
    }
   ],
   "source": [
    "total = float(len(small_train)) # one person per row \n",
    "ax = sns.countplot(x=\"gender\", data=small_train) # for Seaborn version 0.7 and more\n",
    "for p in ax.patches:\n",
    "    height = p.get_height()\n",
    "    ax.text(p.get_x() + p.get_width()/2.,\n",
    "            height + 3,\n",
    "            '{:1.2f}'.format(height/total),\n",
    "            ha=\"center\") \n",
    "plt.show()\n",
    "\n",
    "print('\\n'.join(list(map(lambda x: ' - '.join(map(lambda y: str(y), x)),target_dict.items()))))"
   ]
  },
  {
   "cell_type": "code",
   "execution_count": 21,
   "metadata": {},
   "outputs": [
    {
     "data": {
      "text/plain": [
       "XGBClassifier(base_score=0.5, colsample_bylevel=1, colsample_bytree=1,\n",
       "       gamma=0, learning_rate=0.1, max_delta_step=0, max_depth=3,\n",
       "       min_child_weight=1, missing=None, n_estimators=300, nthread=-1,\n",
       "       objective='binary:logistic', reg_alpha=0, reg_lambda=1,\n",
       "       scale_pos_weight=1, seed=42, silent=True, subsample=1)"
      ]
     },
     "execution_count": 21,
     "metadata": {},
     "output_type": "execute_result"
    }
   ],
   "source": [
    "clasxgb = XGBClassifier(n_estimators=300, learning_rate=0.1, seed=42)\n",
    "clasxgb.fit(X_train.drop([TARGET, 'sample'], axis=1), Y_train)"
   ]
  },
  {
   "cell_type": "code",
   "execution_count": 43,
   "metadata": {},
   "outputs": [
    {
     "name": "stdout",
     "output_type": "stream",
     "text": [
      "Accuracy of one-liner method: 0.724344444444\n",
      "TARGET: gender\n"
     ]
    }
   ],
   "source": [
    "print('Accuracy of one-liner method: {}\\nTARGET: {}'.format(accuracy_score(Y_valid,\n",
    "                                                            clasxgb.predict(X_valid.drop([TARGET, 'sample'], axis=1))),\n",
    "                                                           TARGET))"
   ]
  },
  {
   "cell_type": "code",
   "execution_count": 38,
   "metadata": {},
   "outputs": [
    {
     "name": "stderr",
     "output_type": "stream",
     "text": [
      "100%|██████████| 96/96 [00:01<00:00, 93.40it/s]\n"
     ]
    }
   ],
   "source": [
    "samples = sorted(X_valid['sample'].unique())\n",
    "ans_true = list(map(lambda x: meta_dict[x], samples))\n",
    "\n",
    "predictions = []\n",
    "\n",
    "for i in tqdm.tqdm(samples):\n",
    "    predictions.append(make_prediction(only_sample(X_valid, i), clasxgb))\n",
    "    \n",
    "ans_pred = list(map(lambda x: target_dict[x], predictions))"
   ]
  },
  {
   "cell_type": "code",
   "execution_count": 42,
   "metadata": {},
   "outputs": [
    {
     "name": "stdout",
     "output_type": "stream",
     "text": [
      "Accuracy of Major vote method: 0.729166666667\n",
      "TARGET: gender\n"
     ]
    }
   ],
   "source": [
    "print('Accuracy of Major vote method: {}\\nTARGET: {}'.format(accuracy_score(ans_true, ans_pred), TARGET))"
   ]
  },
  {
   "cell_type": "markdown",
   "metadata": {},
   "source": [
    "## Sex-determination genes"
   ]
  },
  {
   "cell_type": "code",
   "execution_count": 120,
   "metadata": {},
   "outputs": [
    {
     "data": {
      "text/html": [
       "<div>\n",
       "<table border=\"1\" class=\"dataframe\">\n",
       "  <thead>\n",
       "    <tr style=\"text-align: right;\">\n",
       "      <th></th>\n",
       "      <th>Symbol</th>\n",
       "      <th>Chromosome</th>\n",
       "    </tr>\n",
       "  </thead>\n",
       "  <tbody>\n",
       "    <tr>\n",
       "      <th>0</th>\n",
       "      <td>B430216B18Rik</td>\n",
       "      <td>X</td>\n",
       "    </tr>\n",
       "    <tr>\n",
       "      <th>1</th>\n",
       "      <td>Ssxb2</td>\n",
       "      <td>X</td>\n",
       "    </tr>\n",
       "    <tr>\n",
       "      <th>2</th>\n",
       "      <td>Agtr2</td>\n",
       "      <td>X</td>\n",
       "    </tr>\n",
       "    <tr>\n",
       "      <th>3</th>\n",
       "      <td>Magea4</td>\n",
       "      <td>X</td>\n",
       "    </tr>\n",
       "    <tr>\n",
       "      <th>4</th>\n",
       "      <td>Magea9</td>\n",
       "      <td>X</td>\n",
       "    </tr>\n",
       "  </tbody>\n",
       "</table>\n",
       "</div>"
      ],
      "text/plain": [
       "          Symbol Chromosome\n",
       "0  B430216B18Rik          X\n",
       "1          Ssxb2          X\n",
       "2          Agtr2          X\n",
       "3         Magea4          X\n",
       "4         Magea9          X"
      ]
     },
     "execution_count": 120,
     "metadata": {},
     "output_type": "execute_result"
    }
   ],
   "source": [
    "df_sex_genes = pd.read_csv('sex_genes.txt', sep='\\t')\n",
    "df_sex_genes.head()"
   ]
  },
  {
   "cell_type": "code",
   "execution_count": 123,
   "metadata": {
    "collapsed": true
   },
   "outputs": [],
   "source": [
    "sex_genes = list(map(lambda x: x.lower(), df_sex_genes['Symbol']))"
   ]
  },
  {
   "cell_type": "code",
   "execution_count": 126,
   "metadata": {},
   "outputs": [
    {
     "data": {
      "text/plain": [
       "5812757"
      ]
     },
     "execution_count": 126,
     "metadata": {},
     "output_type": "execute_result"
    }
   ],
   "source": [
    "len(df_concat)"
   ]
  },
  {
   "cell_type": "code",
   "execution_count": 125,
   "metadata": {},
   "outputs": [
    {
     "data": {
      "text/plain": [
       "34782"
      ]
     },
     "execution_count": 125,
     "metadata": {},
     "output_type": "execute_result"
    }
   ],
   "source": [
    "df_concat_sex = df_concat[df_concat['gene_sym'].isin(sex_genes)]\n",
    "len(df_concat_sex)"
   ]
  },
  {
   "cell_type": "code",
   "execution_count": 127,
   "metadata": {
    "collapsed": true
   },
   "outputs": [],
   "source": [
    "df_train_sex, df_test_sex, fact_target_sex = categorize_plz(df_concat_sex)"
   ]
  },
  {
   "cell_type": "code",
   "execution_count": 128,
   "metadata": {},
   "outputs": [
    {
     "data": {
      "text/plain": [
       "17624"
      ]
     },
     "execution_count": 128,
     "metadata": {},
     "output_type": "execute_result"
    }
   ],
   "source": [
    "len(df_train_sex)"
   ]
  },
  {
   "cell_type": "markdown",
   "metadata": {},
   "source": [
    "### Prediction"
   ]
  },
  {
   "cell_type": "code",
   "execution_count": 129,
   "metadata": {
    "collapsed": true
   },
   "outputs": [],
   "source": [
    "X_train, X_valid, Y_train, Y_valid = train_test_split(df_train_sex, df_train_sex[TARGET],\n",
    "                                                      test_size=0.3, random_state=42)"
   ]
  },
  {
   "cell_type": "code",
   "execution_count": 130,
   "metadata": {},
   "outputs": [
    {
     "data": {
      "text/plain": [
       "17624"
      ]
     },
     "execution_count": 130,
     "metadata": {},
     "output_type": "execute_result"
    }
   ],
   "source": [
    "len(df_train_sex)"
   ]
  },
  {
   "cell_type": "code",
   "execution_count": 132,
   "metadata": {},
   "outputs": [
    {
     "data": {
      "image/png": "[encoded data removed]",
      "text/plain": [
       "<matplotlib.figure.Figure at 0x11a6d3610>"
      ]
     },
     "metadata": {},
     "output_type": "display_data"
    },
    {
     "name": "stdout",
     "output_type": "stream",
     "text": [
      "0 - male\n",
      "1 - female\n"
     ]
    }
   ],
   "source": [
    "total = float(len(df_train_sex)) # one person per row \n",
    "ax = sns.countplot(x=\"gender\", data=df_train_sex) # for Seaborn version 0.7 and more\n",
    "for p in ax.patches:\n",
    "    height = p.get_height()\n",
    "    ax.text(p.get_x() + p.get_width()/2.,\n",
    "            height + 3,\n",
    "            '{:1.2f}'.format(height/total),\n",
    "            ha=\"center\") \n",
    "plt.show()\n",
    "\n",
    "print('\\n'.join(list(map(lambda x: ' - '.join(map(lambda y: str(y), x)),target_dict.items()))))"
   ]
  },
  {
   "cell_type": "code",
   "execution_count": 136,
   "metadata": {},
   "outputs": [
    {
     "data": {
      "text/plain": [
       "XGBClassifier(base_score=0.5, colsample_bylevel=1, colsample_bytree=1,\n",
       "       gamma=0, learning_rate=0.1, max_delta_step=0, max_depth=3,\n",
       "       min_child_weight=1, missing=None, n_estimators=500, nthread=-1,\n",
       "       objective='binary:logistic', reg_alpha=0, reg_lambda=1,\n",
       "       scale_pos_weight=1, seed=42, silent=True, subsample=1)"
      ]
     },
     "execution_count": 136,
     "metadata": {},
     "output_type": "execute_result"
    }
   ],
   "source": [
    "clasxgb_sex = XGBClassifier(n_estimators=500, learning_rate=0.1, seed=42)\n",
    "clasxgb_sex.fit(X_train.drop([TARGET, 'sample'], axis=1), Y_train)"
   ]
  },
  {
   "cell_type": "code",
   "execution_count": 137,
   "metadata": {},
   "outputs": [
    {
     "name": "stdout",
     "output_type": "stream",
     "text": [
      "Accuracy of sex-determination genes method: 0.721255673222\n",
      "TARGET: gender\n"
     ]
    }
   ],
   "source": [
    "print('Accuracy of sex-determination genes method: {}\\nTARGET: {}'.format(accuracy_score(Y_valid,\n",
    "                                                                          clasxgb.predict(X_valid.drop([TARGET,\n",
    "                                                                                                        'sample'],\n",
    "                                                                                                       axis=1))),\n",
    "                                                                          TARGET))"
   ]
  },
  {
   "cell_type": "code",
   "execution_count": 138,
   "metadata": {},
   "outputs": [
    {
     "name": "stderr",
     "output_type": "stream",
     "text": [
      "100%|██████████| 96/96 [00:00<00:00, 317.09it/s]\n"
     ]
    }
   ],
   "source": [
    "samples = sorted(X_valid['sample'].unique())\n",
    "ans_true = list(map(lambda x: meta_dict[x], samples))\n",
    "\n",
    "predictions = []\n",
    "\n",
    "for i in tqdm.tqdm(samples):\n",
    "    predictions.append(make_prediction(only_sample(X_valid, i), clasxgb))\n",
    "    \n",
    "ans_pred = list(map(lambda x: target_dict[x], predictions))"
   ]
  },
  {
   "cell_type": "code",
   "execution_count": 139,
   "metadata": {},
   "outputs": [
    {
     "name": "stdout",
     "output_type": "stream",
     "text": [
      "Accuracy of Major vote with sex-determination genes method: 0.708333333333\n",
      "TARGET: gender\n"
     ]
    }
   ],
   "source": [
    "print('Accuracy of Major vote with sex-determination genes method: {}\\nTARGET: {}'.format(\n",
    "      accuracy_score(ans_true, ans_pred), TARGET))"
   ]
  },
  {
   "cell_type": "markdown",
   "metadata": {},
   "source": [
    "# Transposed Dataframe method"
   ]
  },
  {
   "cell_type": "code",
   "execution_count": 184,
   "metadata": {
    "collapsed": true
   },
   "outputs": [],
   "source": [
    "df_train = pd.read_csv('data/train_tissue.csv').drop('Unnamed: 0', axis=1)\n",
    "df_test = pd.read_csv('data/test_tissue.csv').drop('Unnamed: 0', axis=1)\n",
    "\n",
    "df_train = df_train.dropna()\n",
    "df_test = df_test.dropna()"
   ]
  },
  {
   "cell_type": "code",
   "execution_count": 185,
   "metadata": {},
   "outputs": [
    {
     "data": {
      "text/plain": [
       "array(['muscle', 'brain', 'liver', 'lung'], dtype=object)"
      ]
     },
     "execution_count": 185,
     "metadata": {},
     "output_type": "execute_result"
    }
   ],
   "source": [
    "df_train['tissue'].unique()"
   ]
  },
  {
   "cell_type": "code",
   "execution_count": 186,
   "metadata": {
    "scrolled": true
   },
   "outputs": [
    {
     "data": {
      "text/plain": [
       "5740407"
      ]
     },
     "execution_count": 186,
     "metadata": {},
     "output_type": "execute_result"
    }
   ],
   "source": [
    "len(df_train)"
   ]
  },
  {
   "cell_type": "code",
   "execution_count": 187,
   "metadata": {},
   "outputs": [
    {
     "data": {
      "text/html": [
       "<div>\n",
       "<table border=\"1\" class=\"dataframe\">\n",
       "  <thead>\n",
       "    <tr style=\"text-align: right;\">\n",
       "      <th></th>\n",
       "      <th>gene_sym</th>\n",
       "      <th>expression</th>\n",
       "      <th>gpl</th>\n",
       "      <th>tissue</th>\n",
       "      <th>sample</th>\n",
       "    </tr>\n",
       "  </thead>\n",
       "  <tbody>\n",
       "    <tr>\n",
       "      <th>0</th>\n",
       "      <td>cradd</td>\n",
       "      <td>8.30550</td>\n",
       "      <td>GPL6885</td>\n",
       "      <td>muscle</td>\n",
       "      <td>1</td>\n",
       "    </tr>\n",
       "    <tr>\n",
       "      <th>1</th>\n",
       "      <td>rcan2</td>\n",
       "      <td>10.17869</td>\n",
       "      <td>GPL6885</td>\n",
       "      <td>muscle</td>\n",
       "      <td>1</td>\n",
       "    </tr>\n",
       "    <tr>\n",
       "      <th>2</th>\n",
       "      <td>mfap3l</td>\n",
       "      <td>8.23015</td>\n",
       "      <td>GPL6885</td>\n",
       "      <td>muscle</td>\n",
       "      <td>1</td>\n",
       "    </tr>\n",
       "    <tr>\n",
       "      <th>3</th>\n",
       "      <td>tcerg1l</td>\n",
       "      <td>8.21468</td>\n",
       "      <td>GPL6885</td>\n",
       "      <td>muscle</td>\n",
       "      <td>1</td>\n",
       "    </tr>\n",
       "    <tr>\n",
       "      <th>4</th>\n",
       "      <td>mb21d2</td>\n",
       "      <td>8.41019</td>\n",
       "      <td>GPL6885</td>\n",
       "      <td>muscle</td>\n",
       "      <td>1</td>\n",
       "    </tr>\n",
       "  </tbody>\n",
       "</table>\n",
       "</div>"
      ],
      "text/plain": [
       "  gene_sym  expression      gpl  tissue  sample\n",
       "0    cradd     8.30550  GPL6885  muscle       1\n",
       "1    rcan2    10.17869  GPL6885  muscle       1\n",
       "2   mfap3l     8.23015  GPL6885  muscle       1\n",
       "3  tcerg1l     8.21468  GPL6885  muscle       1\n",
       "4   mb21d2     8.41019  GPL6885  muscle       1"
      ]
     },
     "execution_count": 187,
     "metadata": {},
     "output_type": "execute_result"
    }
   ],
   "source": [
    "df_train.head()"
   ]
  },
  {
   "cell_type": "code",
   "execution_count": 188,
   "metadata": {},
   "outputs": [
    {
     "data": {
      "text/html": [
       "<div>\n",
       "<table border=\"1\" class=\"dataframe\">\n",
       "  <thead>\n",
       "    <tr style=\"text-align: right;\">\n",
       "      <th></th>\n",
       "      <th>col1</th>\n",
       "      <th>col2</th>\n",
       "    </tr>\n",
       "  </thead>\n",
       "  <tbody>\n",
       "    <tr>\n",
       "      <th>row1</th>\n",
       "      <td>2.0</td>\n",
       "      <td>NaN</td>\n",
       "    </tr>\n",
       "    <tr>\n",
       "      <th>row2</th>\n",
       "      <td>NaN</td>\n",
       "      <td>4.0</td>\n",
       "    </tr>\n",
       "  </tbody>\n",
       "</table>\n",
       "</div>"
      ],
      "text/plain": [
       "      col1  col2\n",
       "row1   2.0   NaN\n",
       "row2   NaN   4.0"
      ]
     },
     "execution_count": 188,
     "metadata": {},
     "output_type": "execute_result"
    }
   ],
   "source": [
    "# Want to make a table:\n",
    "# # # # # # # # ## # # # # ## # # # # # # # # # # # #\n",
    "# sample_number ## gpl_id ## gene1 ## gene2 ## ...  #\n",
    "# # # # # # # # ## # # # ### # # # ## # # # # # # # #\n",
    "# 1             ## GPL6246 #  7.57  ## 0.86  ## ... #\n",
    "# # # # # # # # # # # # # # # # # # # # # # # # # # #\n",
    "# ...\n",
    "\n",
    "pd.DataFrame({'col1': {'row1': 2}, 'col2': {'row2': 4}})"
   ]
  },
  {
   "cell_type": "code",
   "execution_count": 189,
   "metadata": {},
   "outputs": [
    {
     "data": {
      "text/plain": [
       "array([['cradd', 8.3055, 'GPL6885', 'muscle', 1],\n",
       "       ['rcan2', 10.17869, 'GPL6885', 'muscle', 1]], dtype=object)"
      ]
     },
     "execution_count": 189,
     "metadata": {},
     "output_type": "execute_result"
    }
   ],
   "source": [
    "df_train.values[:2]"
   ]
  },
  {
   "cell_type": "code",
   "execution_count": 190,
   "metadata": {},
   "outputs": [
    {
     "data": {
      "text/plain": [
       "5740407"
      ]
     },
     "execution_count": 190,
     "metadata": {},
     "output_type": "execute_result"
    }
   ],
   "source": [
    "len(df_train.values)"
   ]
  },
  {
   "cell_type": "code",
   "execution_count": 191,
   "metadata": {
    "collapsed": true
   },
   "outputs": [],
   "source": [
    "def merge_two_dicts(x, y):\n",
    "    \"\"\"Given two dicts, merge them into a new dict as a shallow copy.\"\"\"\n",
    "    z = x.copy()\n",
    "    z.update(y)\n",
    "    return z"
   ]
  },
  {
   "cell_type": "code",
   "execution_count": 192,
   "metadata": {},
   "outputs": [
    {
     "data": {
      "text/plain": [
       "array([['hivep3', 6.933930584, 'GPL7202', 1],\n",
       "       ['mif4gd', 12.58309683, 'GPL7202', 1]], dtype=object)"
      ]
     },
     "execution_count": 192,
     "metadata": {},
     "output_type": "execute_result"
    }
   ],
   "source": [
    "df_test.values[:2]"
   ]
  },
  {
   "cell_type": "code",
   "execution_count": 193,
   "metadata": {},
   "outputs": [
    {
     "data": {
      "text/plain": [
       "array([['cradd', 8.3055, 'GPL6885', 'muscle', 1],\n",
       "       ['rcan2', 10.17869, 'GPL6885', 'muscle', 1],\n",
       "       ['mfap3l', 8.23015, 'GPL6885', 'muscle', 1],\n",
       "       ['tcerg1l', 8.21468, 'GPL6885', 'muscle', 1],\n",
       "       ['mb21d2', 8.41019, 'GPL6885', 'muscle', 1],\n",
       "       ['strap', 11.83035, 'GPL6885', 'muscle', 1],\n",
       "       ['lman1', 9.80044, 'GPL6885', 'muscle', 1],\n",
       "       ['slc6a13', 8.45502, 'GPL6885', 'muscle', 1],\n",
       "       ['pramef8', 8.249410000000001, 'GPL6885', 'muscle', 1],\n",
       "       ['rftn2', 8.84309, 'GPL6885', 'muscle', 1]], dtype=object)"
      ]
     },
     "execution_count": 193,
     "metadata": {},
     "output_type": "execute_result"
    }
   ],
   "source": [
    "df_train.values[:10]"
   ]
  },
  {
   "cell_type": "code",
   "execution_count": 200,
   "metadata": {},
   "outputs": [
    {
     "name": "stderr",
     "output_type": "stream",
     "text": [
      "100%|██████████| 5740407/5740407 [01:58<00:00, 48549.93it/s] \n"
     ]
    }
   ],
   "source": [
    "# # {row[0]: ..., gpl: ..., gender: ..., }\n",
    "\n",
    "tmp_dict_train = {}\n",
    "\n",
    "for row in tqdm.tqdm(df_train.values):\n",
    "    if row[0] in tmp_dict_train:\n",
    "        tmp_dict_train[row[0]] = merge_two_dicts(tmp_dict_train[row[0]], {row[4]: row[1]})\n",
    "    else:\n",
    "        tmp_dict_train[row[0]] = {row[4]: row[1]}\n",
    "        \n",
    "    if 'gpl' in tmp_dict_train:\n",
    "        tmp_dict_train['gpl'] = merge_two_dicts(tmp_dict_train['gpl'], {row[4]: row[2]})\n",
    "    else:\n",
    "        tmp_dict_train['gpl'] = {row[4]: row[2]}\n",
    "        \n",
    "    if 'tissue' in tmp_dict_train:\n",
    "        tmp_dict_train['tissue'] = merge_two_dicts(tmp_dict_train['tissue'], {row[4]: row[3]})\n",
    "    else:\n",
    "        tmp_dict_train['tissue'] = {row[4]: row[3]}\n",
    "\n",
    "# # {row[0]: ..., gpl: ..., gender: ..., }\n",
    "\n",
    "# tmp_dict_test = {}\n",
    "\n",
    "# for row in tqdm.tqdm(df_test.values):\n",
    "#     if row[0] in tmp_dict_test:\n",
    "#         tmp_dict_test[row[0]] = merge_two_dicts(tmp_dict_test[row[0]], {row[3]: row[1]})\n",
    "#     else:\n",
    "#         tmp_dict_test[row[0]] = {row[3]: row[1]}\n",
    "        \n",
    "#     if 'gpl' in tmp_dict_test:\n",
    "#         tmp_dict_test['gpl'] = merge_two_dicts(tmp_dict_test['gpl'], {row[3]: row[2]})\n",
    "#     else:\n",
    "#         tmp_dict_test['gpl'] = {row[3]: row[2]}"
   ]
  },
  {
   "cell_type": "code",
   "execution_count": 201,
   "metadata": {
    "collapsed": true
   },
   "outputs": [],
   "source": [
    "# df_test_good = pd.DataFrame(tmp_dict_test)\n",
    "df_train_good = pd.DataFrame(tmp_dict_train)"
   ]
  },
  {
   "cell_type": "code",
   "execution_count": 202,
   "metadata": {},
   "outputs": [
    {
     "data": {
      "text/plain": [
       "array(['muscle', 'brain', 'liver', 'lung'], dtype=object)"
      ]
     },
     "execution_count": 202,
     "metadata": {},
     "output_type": "execute_result"
    }
   ],
   "source": [
    "df_train_good['tissue'].unique()"
   ]
  },
  {
   "cell_type": "code",
   "execution_count": 203,
   "metadata": {
    "collapsed": true
   },
   "outputs": [],
   "source": [
    "df_train_good.to_csv('data/train_tissue_good.csv')"
   ]
  },
  {
   "cell_type": "code",
   "execution_count": 204,
   "metadata": {},
   "outputs": [
    {
     "data": {
      "text/html": [
       "<div>\n",
       "<table border=\"1\" class=\"dataframe\">\n",
       "  <thead>\n",
       "    <tr style=\"text-align: right;\">\n",
       "      <th></th>\n",
       "      <th>0610005c13rik</th>\n",
       "      <th>0610006l08rik</th>\n",
       "      <th>0610007p14rik</th>\n",
       "      <th>0610009b22rik</th>\n",
       "      <th>0610009k14rik</th>\n",
       "      <th>0610009l18rik</th>\n",
       "      <th>0610009o20rik</th>\n",
       "      <th>0610010f05rik</th>\n",
       "      <th>0610010k14rik</th>\n",
       "      <th>0610011f06rik</th>\n",
       "      <th>...</th>\n",
       "      <th>zwilch</th>\n",
       "      <th>zwint</th>\n",
       "      <th>zxda</th>\n",
       "      <th>zxdb</th>\n",
       "      <th>zxdc</th>\n",
       "      <th>zyg11a</th>\n",
       "      <th>zyg11b</th>\n",
       "      <th>zyx</th>\n",
       "      <th>zzef1</th>\n",
       "      <th>zzz3</th>\n",
       "    </tr>\n",
       "  </thead>\n",
       "  <tbody>\n",
       "    <tr>\n",
       "      <th>1</th>\n",
       "      <td>NaN</td>\n",
       "      <td>NaN</td>\n",
       "      <td>9.264580</td>\n",
       "      <td>9.113500</td>\n",
       "      <td>NaN</td>\n",
       "      <td>NaN</td>\n",
       "      <td>9.939790</td>\n",
       "      <td>NaN</td>\n",
       "      <td>9.314760</td>\n",
       "      <td>NaN</td>\n",
       "      <td>...</td>\n",
       "      <td>8.231900</td>\n",
       "      <td>NaN</td>\n",
       "      <td>9.152570</td>\n",
       "      <td>NaN</td>\n",
       "      <td>9.171380</td>\n",
       "      <td>NaN</td>\n",
       "      <td>8.361910</td>\n",
       "      <td>13.287080</td>\n",
       "      <td>8.227410</td>\n",
       "      <td>NaN</td>\n",
       "    </tr>\n",
       "    <tr>\n",
       "      <th>2</th>\n",
       "      <td>9.572815</td>\n",
       "      <td>NaN</td>\n",
       "      <td>16.364264</td>\n",
       "      <td>12.452469</td>\n",
       "      <td>3.860628</td>\n",
       "      <td>11.477634</td>\n",
       "      <td>9.103990</td>\n",
       "      <td>7.959305</td>\n",
       "      <td>10.547777</td>\n",
       "      <td>13.161170</td>\n",
       "      <td>...</td>\n",
       "      <td>6.477855</td>\n",
       "      <td>9.765979</td>\n",
       "      <td>6.696026</td>\n",
       "      <td>9.904651</td>\n",
       "      <td>9.636357</td>\n",
       "      <td>3.989847</td>\n",
       "      <td>10.436297</td>\n",
       "      <td>13.603944</td>\n",
       "      <td>12.588084</td>\n",
       "      <td>12.161395</td>\n",
       "    </tr>\n",
       "    <tr>\n",
       "      <th>3</th>\n",
       "      <td>3.332317</td>\n",
       "      <td>2.897964</td>\n",
       "      <td>4.900855</td>\n",
       "      <td>10.633405</td>\n",
       "      <td>NaN</td>\n",
       "      <td>7.871167</td>\n",
       "      <td>7.649672</td>\n",
       "      <td>6.130406</td>\n",
       "      <td>NaN</td>\n",
       "      <td>7.828566</td>\n",
       "      <td>...</td>\n",
       "      <td>2.968978</td>\n",
       "      <td>2.744517</td>\n",
       "      <td>3.046422</td>\n",
       "      <td>4.137556</td>\n",
       "      <td>6.386937</td>\n",
       "      <td>3.116421</td>\n",
       "      <td>4.336378</td>\n",
       "      <td>5.866514</td>\n",
       "      <td>5.724492</td>\n",
       "      <td>6.053710</td>\n",
       "    </tr>\n",
       "    <tr>\n",
       "      <th>4</th>\n",
       "      <td>-0.008866</td>\n",
       "      <td>0.084877</td>\n",
       "      <td>-0.065166</td>\n",
       "      <td>0.439795</td>\n",
       "      <td>NaN</td>\n",
       "      <td>0.004382</td>\n",
       "      <td>-0.055826</td>\n",
       "      <td>-0.000814</td>\n",
       "      <td>-0.236359</td>\n",
       "      <td>-0.248669</td>\n",
       "      <td>...</td>\n",
       "      <td>0.067247</td>\n",
       "      <td>-0.017016</td>\n",
       "      <td>0.077158</td>\n",
       "      <td>0.088760</td>\n",
       "      <td>0.010072</td>\n",
       "      <td>0.008533</td>\n",
       "      <td>-0.065682</td>\n",
       "      <td>-0.039613</td>\n",
       "      <td>-0.078838</td>\n",
       "      <td>NaN</td>\n",
       "    </tr>\n",
       "    <tr>\n",
       "      <th>5</th>\n",
       "      <td>NaN</td>\n",
       "      <td>NaN</td>\n",
       "      <td>10.507600</td>\n",
       "      <td>10.364700</td>\n",
       "      <td>NaN</td>\n",
       "      <td>4.858060</td>\n",
       "      <td>6.771060</td>\n",
       "      <td>8.259310</td>\n",
       "      <td>NaN</td>\n",
       "      <td>6.235100</td>\n",
       "      <td>...</td>\n",
       "      <td>8.664140</td>\n",
       "      <td>7.833200</td>\n",
       "      <td>NaN</td>\n",
       "      <td>NaN</td>\n",
       "      <td>6.915660</td>\n",
       "      <td>4.042490</td>\n",
       "      <td>6.833060</td>\n",
       "      <td>7.187190</td>\n",
       "      <td>7.400930</td>\n",
       "      <td>8.730100</td>\n",
       "    </tr>\n",
       "  </tbody>\n",
       "</table>\n",
       "<p>5 rows × 26760 columns</p>\n",
       "</div>"
      ],
      "text/plain": [
       "   0610005c13rik  0610006l08rik  0610007p14rik  0610009b22rik  0610009k14rik  \\\n",
       "1            NaN            NaN       9.264580       9.113500            NaN   \n",
       "2       9.572815            NaN      16.364264      12.452469       3.860628   \n",
       "3       3.332317       2.897964       4.900855      10.633405            NaN   \n",
       "4      -0.008866       0.084877      -0.065166       0.439795            NaN   \n",
       "5            NaN            NaN      10.507600      10.364700            NaN   \n",
       "\n",
       "   0610009l18rik  0610009o20rik  0610010f05rik  0610010k14rik  0610011f06rik  \\\n",
       "1            NaN       9.939790            NaN       9.314760            NaN   \n",
       "2      11.477634       9.103990       7.959305      10.547777      13.161170   \n",
       "3       7.871167       7.649672       6.130406            NaN       7.828566   \n",
       "4       0.004382      -0.055826      -0.000814      -0.236359      -0.248669   \n",
       "5       4.858060       6.771060       8.259310            NaN       6.235100   \n",
       "\n",
       "     ...        zwilch     zwint      zxda      zxdb      zxdc    zyg11a  \\\n",
       "1    ...      8.231900       NaN  9.152570       NaN  9.171380       NaN   \n",
       "2    ...      6.477855  9.765979  6.696026  9.904651  9.636357  3.989847   \n",
       "3    ...      2.968978  2.744517  3.046422  4.137556  6.386937  3.116421   \n",
       "4    ...      0.067247 -0.017016  0.077158  0.088760  0.010072  0.008533   \n",
       "5    ...      8.664140  7.833200       NaN       NaN  6.915660  4.042490   \n",
       "\n",
       "      zyg11b        zyx      zzef1       zzz3  \n",
       "1   8.361910  13.287080   8.227410        NaN  \n",
       "2  10.436297  13.603944  12.588084  12.161395  \n",
       "3   4.336378   5.866514   5.724492   6.053710  \n",
       "4  -0.065682  -0.039613  -0.078838        NaN  \n",
       "5   6.833060   7.187190   7.400930   8.730100  \n",
       "\n",
       "[5 rows x 26760 columns]"
      ]
     },
     "execution_count": 204,
     "metadata": {},
     "output_type": "execute_result"
    }
   ],
   "source": [
    "df_train_good.head()"
   ]
  },
  {
   "cell_type": "markdown",
   "metadata": {},
   "source": [
    "# May the good train be with you"
   ]
  },
  {
   "cell_type": "code",
   "execution_count": 160,
   "metadata": {},
   "outputs": [
    {
     "data": {
      "text/html": [
       "<div>\n",
       "<table border=\"1\" class=\"dataframe\">\n",
       "  <thead>\n",
       "    <tr style=\"text-align: right;\">\n",
       "      <th></th>\n",
       "      <th></th>\n",
       "      <th>0610005c13rik</th>\n",
       "      <th>0610006l08rik</th>\n",
       "      <th>0610007p14rik</th>\n",
       "      <th>0610009b22rik</th>\n",
       "      <th>0610009k14rik</th>\n",
       "      <th>0610009l18rik</th>\n",
       "      <th>0610009o20rik</th>\n",
       "      <th>0610010f05rik</th>\n",
       "      <th>0610010k14rik</th>\n",
       "      <th>0610011f06rik</th>\n",
       "      <th>...</th>\n",
       "      <th>zwilch</th>\n",
       "      <th>zwint</th>\n",
       "      <th>zxda</th>\n",
       "      <th>zxdb</th>\n",
       "      <th>zxdc</th>\n",
       "      <th>zyg11a</th>\n",
       "      <th>zyg11b</th>\n",
       "      <th>zyx</th>\n",
       "      <th>zzef1</th>\n",
       "      <th>zzz3</th>\n",
       "    </tr>\n",
       "  </thead>\n",
       "  <tbody>\n",
       "    <tr>\n",
       "      <th rowspan=\"5\" valign=\"top\">train</th>\n",
       "      <th>1</th>\n",
       "      <td>NaN</td>\n",
       "      <td>NaN</td>\n",
       "      <td>9.264580</td>\n",
       "      <td>9.113500</td>\n",
       "      <td>NaN</td>\n",
       "      <td>NaN</td>\n",
       "      <td>9.939790</td>\n",
       "      <td>NaN</td>\n",
       "      <td>9.314760</td>\n",
       "      <td>NaN</td>\n",
       "      <td>...</td>\n",
       "      <td>8.231900</td>\n",
       "      <td>NaN</td>\n",
       "      <td>9.152570</td>\n",
       "      <td>NaN</td>\n",
       "      <td>9.171380</td>\n",
       "      <td>NaN</td>\n",
       "      <td>8.361910</td>\n",
       "      <td>13.287080</td>\n",
       "      <td>8.227410</td>\n",
       "      <td>NaN</td>\n",
       "    </tr>\n",
       "    <tr>\n",
       "      <th>2</th>\n",
       "      <td>9.572815</td>\n",
       "      <td>NaN</td>\n",
       "      <td>16.364264</td>\n",
       "      <td>12.452469</td>\n",
       "      <td>3.860628</td>\n",
       "      <td>11.477634</td>\n",
       "      <td>9.103990</td>\n",
       "      <td>7.959305</td>\n",
       "      <td>10.547777</td>\n",
       "      <td>13.161170</td>\n",
       "      <td>...</td>\n",
       "      <td>6.477855</td>\n",
       "      <td>9.765979</td>\n",
       "      <td>6.696026</td>\n",
       "      <td>9.904651</td>\n",
       "      <td>9.636357</td>\n",
       "      <td>3.989847</td>\n",
       "      <td>10.436297</td>\n",
       "      <td>13.603944</td>\n",
       "      <td>12.588084</td>\n",
       "      <td>12.161395</td>\n",
       "    </tr>\n",
       "    <tr>\n",
       "      <th>3</th>\n",
       "      <td>3.332317</td>\n",
       "      <td>2.897964</td>\n",
       "      <td>4.900855</td>\n",
       "      <td>10.633405</td>\n",
       "      <td>NaN</td>\n",
       "      <td>7.871167</td>\n",
       "      <td>7.649672</td>\n",
       "      <td>6.130406</td>\n",
       "      <td>NaN</td>\n",
       "      <td>7.828566</td>\n",
       "      <td>...</td>\n",
       "      <td>2.968978</td>\n",
       "      <td>2.744517</td>\n",
       "      <td>3.046422</td>\n",
       "      <td>4.137556</td>\n",
       "      <td>6.386937</td>\n",
       "      <td>3.116421</td>\n",
       "      <td>4.336378</td>\n",
       "      <td>5.866514</td>\n",
       "      <td>5.724492</td>\n",
       "      <td>6.053710</td>\n",
       "    </tr>\n",
       "    <tr>\n",
       "      <th>4</th>\n",
       "      <td>-0.008866</td>\n",
       "      <td>0.084877</td>\n",
       "      <td>-0.065166</td>\n",
       "      <td>0.439795</td>\n",
       "      <td>NaN</td>\n",
       "      <td>0.004382</td>\n",
       "      <td>-0.055826</td>\n",
       "      <td>-0.000814</td>\n",
       "      <td>-0.236359</td>\n",
       "      <td>-0.248669</td>\n",
       "      <td>...</td>\n",
       "      <td>0.067247</td>\n",
       "      <td>-0.017016</td>\n",
       "      <td>0.077158</td>\n",
       "      <td>0.088760</td>\n",
       "      <td>0.010072</td>\n",
       "      <td>0.008533</td>\n",
       "      <td>-0.065682</td>\n",
       "      <td>-0.039613</td>\n",
       "      <td>-0.078838</td>\n",
       "      <td>NaN</td>\n",
       "    </tr>\n",
       "    <tr>\n",
       "      <th>5</th>\n",
       "      <td>NaN</td>\n",
       "      <td>NaN</td>\n",
       "      <td>10.507600</td>\n",
       "      <td>10.364700</td>\n",
       "      <td>NaN</td>\n",
       "      <td>4.858060</td>\n",
       "      <td>6.771060</td>\n",
       "      <td>8.259310</td>\n",
       "      <td>NaN</td>\n",
       "      <td>6.235100</td>\n",
       "      <td>...</td>\n",
       "      <td>8.664140</td>\n",
       "      <td>7.833200</td>\n",
       "      <td>NaN</td>\n",
       "      <td>NaN</td>\n",
       "      <td>6.915660</td>\n",
       "      <td>4.042490</td>\n",
       "      <td>6.833060</td>\n",
       "      <td>7.187190</td>\n",
       "      <td>7.400930</td>\n",
       "      <td>8.730100</td>\n",
       "    </tr>\n",
       "  </tbody>\n",
       "</table>\n",
       "<p>5 rows × 26760 columns</p>\n",
       "</div>"
      ],
      "text/plain": [
       "         0610005c13rik  0610006l08rik  0610007p14rik  0610009b22rik  \\\n",
       "train 1            NaN            NaN       9.264580       9.113500   \n",
       "      2       9.572815            NaN      16.364264      12.452469   \n",
       "      3       3.332317       2.897964       4.900855      10.633405   \n",
       "      4      -0.008866       0.084877      -0.065166       0.439795   \n",
       "      5            NaN            NaN      10.507600      10.364700   \n",
       "\n",
       "         0610009k14rik  0610009l18rik  0610009o20rik  0610010f05rik  \\\n",
       "train 1            NaN            NaN       9.939790            NaN   \n",
       "      2       3.860628      11.477634       9.103990       7.959305   \n",
       "      3            NaN       7.871167       7.649672       6.130406   \n",
       "      4            NaN       0.004382      -0.055826      -0.000814   \n",
       "      5            NaN       4.858060       6.771060       8.259310   \n",
       "\n",
       "         0610010k14rik  0610011f06rik    ...        zwilch     zwint  \\\n",
       "train 1       9.314760            NaN    ...      8.231900       NaN   \n",
       "      2      10.547777      13.161170    ...      6.477855  9.765979   \n",
       "      3            NaN       7.828566    ...      2.968978  2.744517   \n",
       "      4      -0.236359      -0.248669    ...      0.067247 -0.017016   \n",
       "      5            NaN       6.235100    ...      8.664140  7.833200   \n",
       "\n",
       "             zxda      zxdb      zxdc    zyg11a     zyg11b        zyx  \\\n",
       "train 1  9.152570       NaN  9.171380       NaN   8.361910  13.287080   \n",
       "      2  6.696026  9.904651  9.636357  3.989847  10.436297  13.603944   \n",
       "      3  3.046422  4.137556  6.386937  3.116421   4.336378   5.866514   \n",
       "      4  0.077158  0.088760  0.010072  0.008533  -0.065682  -0.039613   \n",
       "      5       NaN       NaN  6.915660  4.042490   6.833060   7.187190   \n",
       "\n",
       "             zzef1       zzz3  \n",
       "train 1   8.227410        NaN  \n",
       "      2  12.588084  12.161395  \n",
       "      3   5.724492   6.053710  \n",
       "      4  -0.078838        NaN  \n",
       "      5   7.400930   8.730100  \n",
       "\n",
       "[5 rows x 26760 columns]"
      ]
     },
     "execution_count": 160,
     "metadata": {},
     "output_type": "execute_result"
    }
   ],
   "source": [
    "df_concat_good = pd.concat([df_train_good, df_test_good], keys=[\"train\", \"test\"])\n",
    "df_concat_good.head()"
   ]
  },
  {
   "cell_type": "code",
   "execution_count": 205,
   "metadata": {
    "collapsed": true
   },
   "outputs": [],
   "source": [
    "TARGET = 'tissue'"
   ]
  },
  {
   "cell_type": "code",
   "execution_count": 207,
   "metadata": {
    "collapsed": true
   },
   "outputs": [],
   "source": [
    "categories = [TARGET, 'gpl']\n",
    "\n",
    "df_fact_good = df_train_good.copy()\n",
    "\n",
    "for category in categories:\n",
    "    factzed = pd.factorize(df_fact_good[category])\n",
    "    if category == TARGET:\n",
    "        fact_target_good = factzed[1]\n",
    "    df_fact_good[category] = factzed[0]\n",
    "\n",
    "df_train_good = df_fact_good.copy()"
   ]
  },
  {
   "cell_type": "code",
   "execution_count": 217,
   "metadata": {},
   "outputs": [
    {
     "data": {
      "image/png": "[encoded data removed]",
      "text/plain": [
       "<matplotlib.figure.Figure at 0x1296334d0>"
      ]
     },
     "metadata": {},
     "output_type": "display_data"
    },
    {
     "name": "stdout",
     "output_type": "stream",
     "text": [
      "0 - muscle\n",
      "1 - brain\n",
      "2 - liver\n",
      "3 - lung\n"
     ]
    }
   ],
   "source": [
    "total = float(len(df_train_good)) # one person per row \n",
    "ax = sns.countplot(x=TARGET, data=df_train_good) # for Seaborn version 0.7 and more\n",
    "for p in ax.patches:\n",
    "    height = p.get_height()\n",
    "    ax.text(p.get_x() + p.get_width()/2.,\n",
    "            height + 3,\n",
    "            '{:1.2f}'.format(height/total),\n",
    "            ha=\"center\") \n",
    "plt.show()\n",
    "\n",
    "# print('\\n'.join(list(map(lambda x: ' - '.join(map(lambda y: str(y), x)), fact_target_good.items()))))\n",
    "print('\\n'.join(['0 - muscle', '1 - brain', '2 - liver', '3 - lung']))"
   ]
  },
  {
   "cell_type": "code",
   "execution_count": 218,
   "metadata": {},
   "outputs": [
    {
     "data": {
      "text/html": [
       "<div>\n",
       "<table border=\"1\" class=\"dataframe\">\n",
       "  <thead>\n",
       "    <tr style=\"text-align: right;\">\n",
       "      <th></th>\n",
       "      <th>0610005c13rik</th>\n",
       "      <th>0610006l08rik</th>\n",
       "      <th>0610007p14rik</th>\n",
       "      <th>0610009b22rik</th>\n",
       "      <th>0610009k14rik</th>\n",
       "      <th>0610009l18rik</th>\n",
       "      <th>0610009o20rik</th>\n",
       "      <th>0610010f05rik</th>\n",
       "      <th>0610010k14rik</th>\n",
       "      <th>0610011f06rik</th>\n",
       "      <th>...</th>\n",
       "      <th>zwilch</th>\n",
       "      <th>zwint</th>\n",
       "      <th>zxda</th>\n",
       "      <th>zxdb</th>\n",
       "      <th>zxdc</th>\n",
       "      <th>zyg11a</th>\n",
       "      <th>zyg11b</th>\n",
       "      <th>zyx</th>\n",
       "      <th>zzef1</th>\n",
       "      <th>zzz3</th>\n",
       "    </tr>\n",
       "  </thead>\n",
       "  <tbody>\n",
       "    <tr>\n",
       "      <th>1</th>\n",
       "      <td>NaN</td>\n",
       "      <td>NaN</td>\n",
       "      <td>9.264580</td>\n",
       "      <td>9.113500</td>\n",
       "      <td>NaN</td>\n",
       "      <td>NaN</td>\n",
       "      <td>9.939790</td>\n",
       "      <td>NaN</td>\n",
       "      <td>9.314760</td>\n",
       "      <td>NaN</td>\n",
       "      <td>...</td>\n",
       "      <td>8.231900</td>\n",
       "      <td>NaN</td>\n",
       "      <td>9.152570</td>\n",
       "      <td>NaN</td>\n",
       "      <td>9.171380</td>\n",
       "      <td>NaN</td>\n",
       "      <td>8.361910</td>\n",
       "      <td>13.287080</td>\n",
       "      <td>8.227410</td>\n",
       "      <td>NaN</td>\n",
       "    </tr>\n",
       "    <tr>\n",
       "      <th>2</th>\n",
       "      <td>9.572815</td>\n",
       "      <td>NaN</td>\n",
       "      <td>16.364264</td>\n",
       "      <td>12.452469</td>\n",
       "      <td>3.860628</td>\n",
       "      <td>11.477634</td>\n",
       "      <td>9.103990</td>\n",
       "      <td>7.959305</td>\n",
       "      <td>10.547777</td>\n",
       "      <td>13.161170</td>\n",
       "      <td>...</td>\n",
       "      <td>6.477855</td>\n",
       "      <td>9.765979</td>\n",
       "      <td>6.696026</td>\n",
       "      <td>9.904651</td>\n",
       "      <td>9.636357</td>\n",
       "      <td>3.989847</td>\n",
       "      <td>10.436297</td>\n",
       "      <td>13.603944</td>\n",
       "      <td>12.588084</td>\n",
       "      <td>12.161395</td>\n",
       "    </tr>\n",
       "    <tr>\n",
       "      <th>3</th>\n",
       "      <td>3.332317</td>\n",
       "      <td>2.897964</td>\n",
       "      <td>4.900855</td>\n",
       "      <td>10.633405</td>\n",
       "      <td>NaN</td>\n",
       "      <td>7.871167</td>\n",
       "      <td>7.649672</td>\n",
       "      <td>6.130406</td>\n",
       "      <td>NaN</td>\n",
       "      <td>7.828566</td>\n",
       "      <td>...</td>\n",
       "      <td>2.968978</td>\n",
       "      <td>2.744517</td>\n",
       "      <td>3.046422</td>\n",
       "      <td>4.137556</td>\n",
       "      <td>6.386937</td>\n",
       "      <td>3.116421</td>\n",
       "      <td>4.336378</td>\n",
       "      <td>5.866514</td>\n",
       "      <td>5.724492</td>\n",
       "      <td>6.053710</td>\n",
       "    </tr>\n",
       "    <tr>\n",
       "      <th>4</th>\n",
       "      <td>-0.008866</td>\n",
       "      <td>0.084877</td>\n",
       "      <td>-0.065166</td>\n",
       "      <td>0.439795</td>\n",
       "      <td>NaN</td>\n",
       "      <td>0.004382</td>\n",
       "      <td>-0.055826</td>\n",
       "      <td>-0.000814</td>\n",
       "      <td>-0.236359</td>\n",
       "      <td>-0.248669</td>\n",
       "      <td>...</td>\n",
       "      <td>0.067247</td>\n",
       "      <td>-0.017016</td>\n",
       "      <td>0.077158</td>\n",
       "      <td>0.088760</td>\n",
       "      <td>0.010072</td>\n",
       "      <td>0.008533</td>\n",
       "      <td>-0.065682</td>\n",
       "      <td>-0.039613</td>\n",
       "      <td>-0.078838</td>\n",
       "      <td>NaN</td>\n",
       "    </tr>\n",
       "    <tr>\n",
       "      <th>5</th>\n",
       "      <td>NaN</td>\n",
       "      <td>NaN</td>\n",
       "      <td>10.507600</td>\n",
       "      <td>10.364700</td>\n",
       "      <td>NaN</td>\n",
       "      <td>4.858060</td>\n",
       "      <td>6.771060</td>\n",
       "      <td>8.259310</td>\n",
       "      <td>NaN</td>\n",
       "      <td>6.235100</td>\n",
       "      <td>...</td>\n",
       "      <td>8.664140</td>\n",
       "      <td>7.833200</td>\n",
       "      <td>NaN</td>\n",
       "      <td>NaN</td>\n",
       "      <td>6.915660</td>\n",
       "      <td>4.042490</td>\n",
       "      <td>6.833060</td>\n",
       "      <td>7.187190</td>\n",
       "      <td>7.400930</td>\n",
       "      <td>8.730100</td>\n",
       "    </tr>\n",
       "  </tbody>\n",
       "</table>\n",
       "<p>5 rows × 26760 columns</p>\n",
       "</div>"
      ],
      "text/plain": [
       "   0610005c13rik  0610006l08rik  0610007p14rik  0610009b22rik  0610009k14rik  \\\n",
       "1            NaN            NaN       9.264580       9.113500            NaN   \n",
       "2       9.572815            NaN      16.364264      12.452469       3.860628   \n",
       "3       3.332317       2.897964       4.900855      10.633405            NaN   \n",
       "4      -0.008866       0.084877      -0.065166       0.439795            NaN   \n",
       "5            NaN            NaN      10.507600      10.364700            NaN   \n",
       "\n",
       "   0610009l18rik  0610009o20rik  0610010f05rik  0610010k14rik  0610011f06rik  \\\n",
       "1            NaN       9.939790            NaN       9.314760            NaN   \n",
       "2      11.477634       9.103990       7.959305      10.547777      13.161170   \n",
       "3       7.871167       7.649672       6.130406            NaN       7.828566   \n",
       "4       0.004382      -0.055826      -0.000814      -0.236359      -0.248669   \n",
       "5       4.858060       6.771060       8.259310            NaN       6.235100   \n",
       "\n",
       "     ...        zwilch     zwint      zxda      zxdb      zxdc    zyg11a  \\\n",
       "1    ...      8.231900       NaN  9.152570       NaN  9.171380       NaN   \n",
       "2    ...      6.477855  9.765979  6.696026  9.904651  9.636357  3.989847   \n",
       "3    ...      2.968978  2.744517  3.046422  4.137556  6.386937  3.116421   \n",
       "4    ...      0.067247 -0.017016  0.077158  0.088760  0.010072  0.008533   \n",
       "5    ...      8.664140  7.833200       NaN       NaN  6.915660  4.042490   \n",
       "\n",
       "      zyg11b        zyx      zzef1       zzz3  \n",
       "1   8.361910  13.287080   8.227410        NaN  \n",
       "2  10.436297  13.603944  12.588084  12.161395  \n",
       "3   4.336378   5.866514   5.724492   6.053710  \n",
       "4  -0.065682  -0.039613  -0.078838        NaN  \n",
       "5   6.833060   7.187190   7.400930   8.730100  \n",
       "\n",
       "[5 rows x 26760 columns]"
      ]
     },
     "execution_count": 218,
     "metadata": {},
     "output_type": "execute_result"
    }
   ],
   "source": [
    "df_train_good.head()"
   ]
  },
  {
   "cell_type": "code",
   "execution_count": null,
   "metadata": {
    "collapsed": true
   },
   "outputs": [],
   "source": []
  },
  {
   "cell_type": "code",
   "execution_count": 220,
   "metadata": {},
   "outputs": [
    {
     "data": {
      "text/plain": [
       "(26758, 189)"
      ]
     },
     "execution_count": 220,
     "metadata": {},
     "output_type": "execute_result"
    }
   ],
   "source": [
    "df_train_good.drop(['gpl', 'tissue'], axis=1).transpose().shape"
   ]
  },
  {
   "cell_type": "code",
   "execution_count": 221,
   "metadata": {
    "collapsed": true
   },
   "outputs": [
    {
     "data": {
      "image/png": "[encoded data removed]",
      "text/plain": [
       "<matplotlib.figure.Figure at 0x112680d90>"
      ]
     },
     "metadata": {},
     "output_type": "display_data"
    }
   ],
   "source": [
    "sns.heatmap(df_train_good.drop(['gpl', 'tissue'], axis=1).transpose().iloc[list(range(200))], yticklabels=False, xticklabels=False)\n",
    "plt.xlabel('Sample number', fontsize=15)\n",
    "plt.title('Gene expression heatmap')\n",
    "plt.ylabel('Gene', fontsize=15)\n",
    "plt.show()"
   ]
  },
  {
   "cell_type": "code",
   "execution_count": 223,
   "metadata": {
    "collapsed": true
   },
   "outputs": [
    {
     "data": {
      "image/png": "[encoded data removed]",
      "text/plain": [
       "<matplotlib.figure.Figure at 0x110be6fd0>"
      ]
     },
     "metadata": {},
     "output_type": "display_data"
    }
   ],
   "source": [
    "sns.heatmap(df_normalized.drop(['gpl', 'tissue'], axis=1).transpose().iloc[list(range(200))], yticklabels=False, xticklabels=False)\n",
    "plt.xlabel('Sample number', fontsize=15)\n",
    "plt.title('Gene expression heatmap')\n",
    "plt.ylabel('Gene', fontsize=15)\n",
    "plt.show()"
   ]
  },
  {
   "cell_type": "code",
   "execution_count": 222,
   "metadata": {
    "collapsed": true
   },
   "outputs": [],
   "source": [
    "tmp_good_target = df_train_good.drop([TARGET, 'gpl'], axis=1).copy()\n",
    "\n",
    "rank_mean = tmp_good_target.stack().groupby(tmp_good_target.rank(method='first').stack().astype(int)).mean()\n",
    "df_normalized = tmp_good_target.rank(method='min').stack().astype(int).map(rank_mean).unstack()\n",
    "\n",
    "# df_normalized[TARGET] = df_train_good[TARGET].copy()\n",
    "# df_normalized['gpl'] = df_train_good['gpl'].copy()\n",
    "df_normalized = pd.concat([df_normalized, df_train_good[[TARGET, 'gpl']]], axis=1)"
   ]
  },
  {
   "cell_type": "code",
   "execution_count": 277,
   "metadata": {
    "collapsed": true
   },
   "outputs": [],
   "source": [
    "small_train_good = df_train_good.sample(30)\n",
    "\n",
    "# X_train, X_valid, Y_train, Y_valid = train_test_split(small_train_good, small_train_good[TARGET],\n",
    "#                                                       test_size=0.3, random_state=42)\n",
    "# X_train, X_valid, Y_train, Y_valid = train_test_split(df_train_good.drop([TARGET], axis=1), df_train_good[TARGET],\n",
    "#                                                       test_size=0.3, random_state=42)\n",
    "X_train, X_valid, Y_train, Y_valid = train_test_split(df_normalized.drop([TARGET], axis=1), df_normalized[TARGET],\n",
    "                                                      test_size=0.3, random_state=42)"
   ]
  },
  {
   "cell_type": "markdown",
   "metadata": {},
   "source": [
    "# GPL Prediction"
   ]
  },
  {
   "cell_type": "code",
   "execution_count": 246,
   "metadata": {
    "collapsed": true
   },
   "outputs": [],
   "source": [
    "df_subtrain = df_train_good[df_train_good['gpl'] == 2]"
   ]
  },
  {
   "cell_type": "code",
   "execution_count": null,
   "metadata": {
    "collapsed": true
   },
   "outputs": [],
   "source": []
  },
  {
   "cell_type": "code",
   "execution_count": null,
   "metadata": {
    "collapsed": true
   },
   "outputs": [],
   "source": []
  },
  {
   "cell_type": "code",
   "execution_count": 253,
   "metadata": {
    "collapsed": true
   },
   "outputs": [],
   "source": [
    "# X_train, X_valid, Y_train, Y_valid = train_test_split(df_train_good.drop([TARGET], axis=1), df_train_good[TARGET],\n",
    "#                                                       test_size=0.3, random_state=42)\n",
    "\n",
    "X_train, X_valid, Y_train, Y_valid = train_test_split(df_subtrain.drop([TARGET], axis=1), df_subtrain[TARGET],\n",
    "                                                      test_size=0.3, random_state=42)"
   ]
  },
  {
   "cell_type": "code",
   "execution_count": 256,
   "metadata": {
    "scrolled": false
   },
   "outputs": [
    {
     "name": "stdout",
     "output_type": "stream",
     "text": [
      "CPU times: user 29.9 s, sys: 200 ms, total: 30.1 s\n",
      "Wall time: 30.6 s\n"
     ]
    }
   ],
   "source": [
    "%%time\n",
    "clasxgb = XGBClassifier(n_estimators=100, learning_rate=0.1, seed=42, max_depth=5)\n",
    "clasxgb.fit(X_train, Y_train)"
   ]
  },
  {
   "cell_type": "code",
   "execution_count": 257,
   "metadata": {
    "scrolled": true
   },
   "outputs": [
    {
     "data": {
      "text/plain": [
       "0.80952380952380953"
      ]
     },
     "execution_count": 257,
     "metadata": {},
     "output_type": "execute_result"
    }
   ],
   "source": [
    "accuracy_score(Y_valid, clasxgb.predict(X_valid))"
   ]
  },
  {
   "cell_type": "code",
   "execution_count": null,
   "metadata": {
    "collapsed": true
   },
   "outputs": [],
   "source": []
  },
  {
   "cell_type": "code",
   "execution_count": 273,
   "metadata": {},
   "outputs": [
    {
     "name": "stdout",
     "output_type": "stream",
     "text": [
      "Accuracy of Tissue Prediction with Quantile Normalization: 0.809523809524\n"
     ]
    }
   ],
   "source": [
    "print('Accuracy of Tissue Prediction with Quantile Normalization: {}'.format(accuracy_score(Y_valid, clasxgb.predict(X_valid))))"
   ]
  },
  {
   "cell_type": "code",
   "execution_count": 231,
   "metadata": {},
   "outputs": [
    {
     "name": "stdout",
     "output_type": "stream",
     "text": [
      "Accuracy of Tissue Prediction without Quantile Normalization: 0.719298245614\n"
     ]
    }
   ],
   "source": [
    "print('Accuracy of Tissue Prediction without Quantile Normalization: {}'.format(accuracy_score(Y_valid, clasxgb.predict(X_valid))))"
   ]
  },
  {
   "cell_type": "code",
   "execution_count": 112,
   "metadata": {
    "collapsed": true
   },
   "outputs": [],
   "source": [
    "from sklearn.metrics import confusion_matrix"
   ]
  },
  {
   "cell_type": "code",
   "execution_count": null,
   "metadata": {
    "collapsed": true
   },
   "outputs": [],
   "source": [
    "Accuracy of Tissue Prediction: 0.719298245614"
   ]
  },
  {
   "cell_type": "code",
   "execution_count": 266,
   "metadata": {},
   "outputs": [
    {
     "data": {
      "text/plain": [
       "array([0, 0, 2, 1, 3, 2, 0, 3, 3, 0, 2, 1, 1, 3, 0, 1, 1, 2, 1, 2, 3, 1, 1,\n",
       "       3, 1, 1, 3, 1, 1, 1, 0, 1, 0, 1, 1, 0, 2, 3, 2, 0, 1, 2, 0, 2, 0, 2,\n",
       "       2, 2, 1, 1, 0, 1, 2, 3, 2, 1, 1, 1, 3, 3, 3, 1, 3, 2, 3, 1, 3, 2, 0,\n",
       "       2])"
      ]
     },
     "execution_count": 266,
     "metadata": {},
     "output_type": "execute_result"
    }
   ],
   "source": [
    "df_subtrain[TARGET].values"
   ]
  },
  {
   "cell_type": "code",
   "execution_count": 272,
   "metadata": {},
   "outputs": [
    {
     "data": {
      "text/plain": [
       "array([1, 0, 1, 3, 2, 1, 2, 3, 2, 1, 2, 0, 2, 0, 2, 0, 3, 0, 1, 2, 1])"
      ]
     },
     "execution_count": 272,
     "metadata": {},
     "output_type": "execute_result"
    }
   ],
   "source": [
    "clasxgb.predict(X_valid)"
   ]
  },
  {
   "cell_type": "code",
   "execution_count": 275,
   "metadata": {
    "scrolled": false
   },
   "outputs": [
    {
     "data": {
      "image/png": "[encoded data removed]",
      "text/plain": [
       "<matplotlib.figure.Figure at 0x11e2a7950>"
      ]
     },
     "metadata": {},
     "output_type": "display_data"
    }
   ],
   "source": [
    "sns.heatmap(confusion_matrix(Y_valid, clasxgb.predict(X_valid)))\n",
    "plt.title('confusion matrix of Tissue Prediction on GPL1261')\n",
    "plt.xlabel('Predicted')\n",
    "plt.ylabel('Actual')\n",
    "plt.show();"
   ]
  },
  {
   "cell_type": "code",
   "execution_count": 240,
   "metadata": {},
   "outputs": [
    {
     "data": {
      "image/png": "[encoded data removed]",
      "text/plain": [
       "<matplotlib.figure.Figure at 0x14be12b10>"
      ]
     },
     "metadata": {},
     "output_type": "display_data"
    }
   ],
   "source": [
    "total = float(len(df_train_good)) # one person per row \n",
    "ax = sns.countplot(x=\"gpl\", data=df_train_good) # for Seaborn version 0.7 and more\n",
    "for p in ax.patches:\n",
    "    height = p.get_height()\n",
    "    ax.text(p.get_x() + p.get_width()/2.,\n",
    "            height + 3,\n",
    "            '{:1.2f}'.format(height/total),\n",
    "            ha=\"center\") \n",
    "plt.title('GPL_id distribution')\n",
    "plt.show()"
   ]
  },
  {
   "cell_type": "code",
   "execution_count": null,
   "metadata": {
    "collapsed": true
   },
   "outputs": [],
   "source": []
  }
 ],
 "metadata": {
  "kernelspec": {
   "display_name": "Python 2",
   "language": "python",
   "name": "python2"
  },
  "language_info": {
   "codemirror_mode": {
    "name": "ipython",
    "version": 2
   },
   "file_extension": ".py",
   "mimetype": "text/x-python",
   "name": "python",
   "nbconvert_exporter": "python",
   "pygments_lexer": "ipython2",
   "version": "2.7.13"
  }
 },
 "nbformat": 4,
 "nbformat_minor": 1
}
